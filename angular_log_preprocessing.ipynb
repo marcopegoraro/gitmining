{
 "cells": [
  {
   "cell_type": "code",
   "execution_count": 2,
   "id": "fb0d8a19",
   "metadata": {},
   "outputs": [
    {
     "data": {
      "text/html": [
       "<div>\n",
       "<style scoped>\n",
       "    .dataframe tbody tr th:only-of-type {\n",
       "        vertical-align: middle;\n",
       "    }\n",
       "\n",
       "    .dataframe tbody tr th {\n",
       "        vertical-align: top;\n",
       "    }\n",
       "\n",
       "    .dataframe thead th {\n",
       "        text-align: right;\n",
       "    }\n",
       "</style>\n",
       "<table border=\"1\" class=\"dataframe\">\n",
       "  <thead>\n",
       "    <tr style=\"text-align: right;\">\n",
       "      <th></th>\n",
       "      <th>Unnamed: 0</th>\n",
       "      <th>author_timestamp</th>\n",
       "      <th>hash</th>\n",
       "      <th>activity</th>\n",
       "      <th>commit_message</th>\n",
       "      <th>author_name</th>\n",
       "      <th>author_email</th>\n",
       "      <th>merge</th>\n",
       "    </tr>\n",
       "  </thead>\n",
       "  <tbody>\n",
       "    <tr>\n",
       "      <th>0</th>\n",
       "      <td>0</td>\n",
       "      <td>2014-09-18T09:12:01-07:00</td>\n",
       "      <td>6a3abf2366e2c32ce3460155903262fee01736c8</td>\n",
       "      <td>Initial</td>\n",
       "      <td>Initial commit</td>\n",
       "      <td>Miško Hevery</td>\n",
       "      <td>misko@hevery.com</td>\n",
       "      <td>False</td>\n",
       "    </tr>\n",
       "    <tr>\n",
       "      <th>1</th>\n",
       "      <td>1</td>\n",
       "      <td>2014-09-18T14:56:38-07:00</td>\n",
       "      <td>afa761646472120edef1f9b01f219f125f20128e</td>\n",
       "      <td>build</td>\n",
       "      <td>build - refactor</td>\n",
       "      <td>Tobias Bosch</td>\n",
       "      <td>tbosch1009@gmail.com</td>\n",
       "      <td>False</td>\n",
       "    </tr>\n",
       "    <tr>\n",
       "      <th>2</th>\n",
       "      <td>2</td>\n",
       "      <td>2014-09-19T21:55:04+00:00</td>\n",
       "      <td>5af57922dbf5b3cf76adb5e3831f9aa21dddc17c</td>\n",
       "      <td>chore</td>\n",
       "      <td>chore: add .c9 to gitignore</td>\n",
       "      <td>Misko Hevery</td>\n",
       "      <td>misko@hevery.com</td>\n",
       "      <td>False</td>\n",
       "    </tr>\n",
       "    <tr>\n",
       "      <th>3</th>\n",
       "      <td>3</td>\n",
       "      <td>2014-09-19T21:55:37+00:00</td>\n",
       "      <td>9f1db3f2bcf67f49c9b145e1d1e8f090220372df</td>\n",
       "      <td>chore</td>\n",
       "      <td>chore: correct postinstall.sh script</td>\n",
       "      <td>Misko Hevery</td>\n",
       "      <td>misko@hevery.com</td>\n",
       "      <td>False</td>\n",
       "    </tr>\n",
       "    <tr>\n",
       "      <th>4</th>\n",
       "      <td>4</td>\n",
       "      <td>2014-09-19T23:03:36+00:00</td>\n",
       "      <td>6e4477fc0880e12c9f4c2959e4bf1ae075794bc3</td>\n",
       "      <td>WIP</td>\n",
       "      <td>WIP</td>\n",
       "      <td>Misko Hevery</td>\n",
       "      <td>misko@hevery.com</td>\n",
       "      <td>False</td>\n",
       "    </tr>\n",
       "  </tbody>\n",
       "</table>\n",
       "</div>"
      ],
      "text/plain": [
       "   Unnamed: 0           author_timestamp  \\\n",
       "0           0  2014-09-18T09:12:01-07:00   \n",
       "1           1  2014-09-18T14:56:38-07:00   \n",
       "2           2  2014-09-19T21:55:04+00:00   \n",
       "3           3  2014-09-19T21:55:37+00:00   \n",
       "4           4  2014-09-19T23:03:36+00:00   \n",
       "\n",
       "                                       hash activity  \\\n",
       "0  6a3abf2366e2c32ce3460155903262fee01736c8  Initial   \n",
       "1  afa761646472120edef1f9b01f219f125f20128e    build   \n",
       "2  5af57922dbf5b3cf76adb5e3831f9aa21dddc17c    chore   \n",
       "3  9f1db3f2bcf67f49c9b145e1d1e8f090220372df    chore   \n",
       "4  6e4477fc0880e12c9f4c2959e4bf1ae075794bc3      WIP   \n",
       "\n",
       "                         commit_message   author_name          author_email  \\\n",
       "0                        Initial commit  Miško Hevery      misko@hevery.com   \n",
       "1                      build - refactor  Tobias Bosch  tbosch1009@gmail.com   \n",
       "2           chore: add .c9 to gitignore  Misko Hevery      misko@hevery.com   \n",
       "3  chore: correct postinstall.sh script  Misko Hevery      misko@hevery.com   \n",
       "4                                   WIP  Misko Hevery      misko@hevery.com   \n",
       "\n",
       "   merge  \n",
       "0  False  \n",
       "1  False  \n",
       "2  False  \n",
       "3  False  \n",
       "4  False  "
      ]
     },
     "execution_count": 2,
     "metadata": {},
     "output_type": "execute_result"
    }
   ],
   "source": [
    "import numpy as np\n",
    "import pandas as pd\n",
    "\n",
    "data = pd.read_csv('log.csv')\n",
    "data.head()"
   ]
  },
  {
   "cell_type": "code",
   "execution_count": 6,
   "id": "18c68dda",
   "metadata": {},
   "outputs": [
    {
     "name": "stdout",
     "output_type": "stream",
     "text": [
      "number of traces: 1975\n",
      "number of events: 27104\n",
      "number of different labels: 112\n",
      "number of unique labels: 67\n",
      "uniqueness: 0.002471959858323495\n",
      "complexity: 13.721518987341772\n",
      "relevancy: 0.004132231404958678\n",
      "consistency: 191.64341661603942\n"
     ]
    }
   ],
   "source": [
    "def compute_consistency(descriptions, avg_length_events_string, number_of_events):\n",
    "    consistency_result = 0\n",
    "    for description in descriptions:\n",
    "        consistency_result += abs(len(description) - avg_length_events_string) \n",
    "    return consistency_result/number_of_events\n",
    "\n",
    "number_of_traces = data.author_email.nunique()\n",
    "number_of_events = len(data)\n",
    "number_of_different_labels = data.activity.nunique()\n",
    "labels_stats = data.groupby('activity').author_email.count()\n",
    "number_of_unique_labels = len(labels_stats[labels_stats==1])\n",
    "\n",
    "uniqueness = number_of_unique_labels/number_of_events\n",
    "complexity = np.average(data.groupby('author_email').activity.count())\n",
    "relevancy = number_of_different_labels/number_of_events\n",
    "avg_length_events_string = sum( map(len, list(data.commit_message)) ) / len(list(data.commit_message))\n",
    "consistency = compute_consistency(data.commit_message, avg_length_events_string, number_of_events)\n",
    "\n",
    "print(\"number of traces:\", number_of_traces)\n",
    "print(\"number of events:\", number_of_events)\n",
    "print(\"number of different labels:\", number_of_different_labels)\n",
    "print(\"number of unique labels:\", number_of_unique_labels)\n",
    "print(\"uniqueness:\", uniqueness)\n",
    "print(\"complexity:\", complexity)\n",
    "print(\"relevancy:\", relevancy)\n",
    "print(\"consistency:\", consistency)"
   ]
  },
  {
   "cell_type": "code",
   "execution_count": 69,
   "id": "ba7bc192",
   "metadata": {},
   "outputs": [
    {
     "data": {
      "text/plain": [
       "Index(['Adding', 'Address', 'BUG', 'Bump', 'Check', 'Configure', 'Copy', 'Doc',\n",
       "       'FIX', 'Feat', 'Fixes', 'Form', 'Format', 'Include', 'Keep', 'Make',\n",
       "       'Merge', 'Produce', 'README', 'Read', 'Refactor', 'Removed',\n",
       "       'RendererV2', 'Replaced', 'Roll', 'Router', 'SQUASH', 'Tweak',\n",
       "       'Updating', 'adds', 'benchmarks', 'buid', 'changelog', 'chare', 'clean',\n",
       "       'code', 'consolidated', 'edit', 'features', 'filetree', 'finished',\n",
       "       'first', 'fixes', 'for', 'hr', 'make', 'misc', 'patch', 'reactor',\n",
       "       'readme', 'reafactor', 'refacor', 'refact', 'refatcor', 'refector',\n",
       "       'removed', 'removes', 'resolve', 'squash-me', 'table', 'temporary',\n",
       "       'text', 'transpiler', 'tweak', 'updated', 'upgrade', 'use'],\n",
       "      dtype='object', name='activity')"
      ]
     },
     "execution_count": 69,
     "metadata": {},
     "output_type": "execute_result"
    }
   ],
   "source": [
    "# display activity labels represented only by one event\n",
    "labels_stats[labels_stats==1].index"
   ]
  },
  {
   "cell_type": "code",
   "execution_count": 12,
   "id": "db2280b9",
   "metadata": {},
   "outputs": [
    {
     "data": {
      "text/plain": [
       "count    1975.000000\n",
       "mean       13.721519\n",
       "std        88.086293\n",
       "min         0.000000\n",
       "25%         1.000000\n",
       "50%         1.000000\n",
       "75%         2.000000\n",
       "max      1928.000000\n",
       "Name: activity, dtype: float64"
      ]
     },
     "execution_count": 12,
     "metadata": {},
     "output_type": "execute_result"
    }
   ],
   "source": [
    "# trace length stats\n",
    "# trace_id = author_email \n",
    "traces_stats = data.groupby('author_email').activity.count()\n",
    "traces_stats.describe()"
   ]
  },
  {
   "cell_type": "code",
   "execution_count": 14,
   "id": "451c7e4f",
   "metadata": {},
   "outputs": [
    {
     "data": {
      "text/plain": [
       "author_email\n",
       "kalpakas.g@gmail.com    1928\n",
       "pete@bacondarwin.com    1771\n",
       "Name: activity, dtype: int64"
      ]
     },
     "execution_count": 14,
     "metadata": {},
     "output_type": "execute_result"
    }
   ],
   "source": [
    "traces_stats[traces_stats > 1000]"
   ]
  },
  {
   "cell_type": "code",
   "execution_count": 23,
   "id": "52f55268",
   "metadata": {},
   "outputs": [
    {
     "data": {
      "image/png": "[encoded data removed]",
      "text/plain": [
       "<Figure size 640x480 with 1 Axes>"
      ]
     },
     "metadata": {},
     "output_type": "display_data"
    }
   ],
   "source": [
    "import matplotlib.pyplot as plt\n",
    "\n",
    "plt.hist(traces_stats, bins = 100)\n",
    "plt.show()"
   ]
  },
  {
   "cell_type": "code",
   "execution_count": 19,
   "id": "295dc2f2",
   "metadata": {},
   "outputs": [
    {
     "data": {
      "text/plain": [
       "(array([1.000e+00, 1.331e+03, 2.590e+02, 1.030e+02, 6.700e+01, 2.500e+01,\n",
       "        1.700e+01, 1.400e+01, 9.000e+00, 5.000e+00]),\n",
       " array([0. , 0.9, 1.8, 2.7, 3.6, 4.5, 5.4, 6.3, 7.2, 8.1, 9. ]),\n",
       " <BarContainer object of 10 artists>)"
      ]
     },
     "execution_count": 19,
     "metadata": {},
     "output_type": "execute_result"
    },
    {
     "data": {
      "image/png": "[encoded data removed]",
      "text/plain": [
       "<Figure size 640x480 with 1 Axes>"
      ]
     },
     "metadata": {},
     "output_type": "display_data"
    }
   ],
   "source": [
    "plt.hist(traces_stats[traces_stats < 10])"
   ]
  },
  {
   "cell_type": "code",
   "execution_count": 30,
   "id": "a78575da",
   "metadata": {},
   "outputs": [
    {
     "data": {
      "text/html": [
       "<div>\n",
       "<style scoped>\n",
       "    .dataframe tbody tr th:only-of-type {\n",
       "        vertical-align: middle;\n",
       "    }\n",
       "\n",
       "    .dataframe tbody tr th {\n",
       "        vertical-align: top;\n",
       "    }\n",
       "\n",
       "    .dataframe thead th {\n",
       "        text-align: right;\n",
       "    }\n",
       "</style>\n",
       "<table border=\"1\" class=\"dataframe\">\n",
       "  <thead>\n",
       "    <tr style=\"text-align: right;\">\n",
       "      <th></th>\n",
       "      <th>Unnamed: 0</th>\n",
       "      <th>author_timestamp</th>\n",
       "      <th>hash</th>\n",
       "      <th>activity</th>\n",
       "      <th>commit_message</th>\n",
       "      <th>author_name</th>\n",
       "      <th>author_email</th>\n",
       "      <th>merge</th>\n",
       "    </tr>\n",
       "  </thead>\n",
       "  <tbody>\n",
       "    <tr>\n",
       "      <th>698</th>\n",
       "      <td>698</td>\n",
       "      <td>2015-03-16T22:46:05+01:00</td>\n",
       "      <td>6fe294ff2b324c4ff80e7f50cce0c5b8580290b7</td>\n",
       "      <td>NaN</td>\n",
       "      <td>(docs) decorator events typo?\\n\\nOk I'm not su...</td>\n",
       "      <td>Nick Van Dyck</td>\n",
       "      <td>vandyck.nick@outlook.com</td>\n",
       "      <td>False</td>\n",
       "    </tr>\n",
       "    <tr>\n",
       "      <th>732</th>\n",
       "      <td>732</td>\n",
       "      <td>2015-03-19T14:31:41+01:00</td>\n",
       "      <td>f1fca5abb67a9f7753c7074f7c08b48fe5d49097</td>\n",
       "      <td>NaN</td>\n",
       "      <td>(docs) decorator events property\\n\\nAs from wh...</td>\n",
       "      <td>Nick Van Dyck</td>\n",
       "      <td>vandyck.nick@outlook.com</td>\n",
       "      <td>False</td>\n",
       "    </tr>\n",
       "    <tr>\n",
       "      <th>4364</th>\n",
       "      <td>4364</td>\n",
       "      <td>2016-03-24T14:14:41-07:00</td>\n",
       "      <td>9c2fe660a3f50a5eafc945a2dfc0711ef027e6cd</td>\n",
       "      <td>NaN</td>\n",
       "      <td>(docs) Fix pony greeting equivalence\\n\\nCheats...</td>\n",
       "      <td>cjc343</td>\n",
       "      <td>cjc343@gmail.com</td>\n",
       "      <td>False</td>\n",
       "    </tr>\n",
       "    <tr>\n",
       "      <th>5673</th>\n",
       "      <td>5673</td>\n",
       "      <td>2016-09-27T13:10:45-04:00</td>\n",
       "      <td>a241ab7c07c8f10936fc067a799ae23ac288b4cc</td>\n",
       "      <td>NaN</td>\n",
       "      <td>(docs): removing `addProvider` from `UpgradeAd...</td>\n",
       "      <td>Austin</td>\n",
       "      <td>amcdaniel2@gmail.com</td>\n",
       "      <td>False</td>\n",
       "    </tr>\n",
       "  </tbody>\n",
       "</table>\n",
       "</div>"
      ],
      "text/plain": [
       "      Unnamed: 0           author_timestamp  \\\n",
       "698          698  2015-03-16T22:46:05+01:00   \n",
       "732          732  2015-03-19T14:31:41+01:00   \n",
       "4364        4364  2016-03-24T14:14:41-07:00   \n",
       "5673        5673  2016-09-27T13:10:45-04:00   \n",
       "\n",
       "                                          hash activity  \\\n",
       "698   6fe294ff2b324c4ff80e7f50cce0c5b8580290b7      NaN   \n",
       "732   f1fca5abb67a9f7753c7074f7c08b48fe5d49097      NaN   \n",
       "4364  9c2fe660a3f50a5eafc945a2dfc0711ef027e6cd      NaN   \n",
       "5673  a241ab7c07c8f10936fc067a799ae23ac288b4cc      NaN   \n",
       "\n",
       "                                         commit_message    author_name  \\\n",
       "698   (docs) decorator events typo?\\n\\nOk I'm not su...  Nick Van Dyck   \n",
       "732   (docs) decorator events property\\n\\nAs from wh...  Nick Van Dyck   \n",
       "4364  (docs) Fix pony greeting equivalence\\n\\nCheats...         cjc343   \n",
       "5673  (docs): removing `addProvider` from `UpgradeAd...         Austin   \n",
       "\n",
       "                  author_email  merge  \n",
       "698   vandyck.nick@outlook.com  False  \n",
       "732   vandyck.nick@outlook.com  False  \n",
       "4364          cjc343@gmail.com  False  \n",
       "5673      amcdaniel2@gmail.com  False  "
      ]
     },
     "execution_count": 30,
     "metadata": {},
     "output_type": "execute_result"
    }
   ],
   "source": [
    "#anomaly detected\n",
    "data[data.activity != data.activity]"
   ]
  },
  {
   "cell_type": "code",
   "execution_count": 33,
   "id": "2b1860ea",
   "metadata": {},
   "outputs": [
    {
     "data": {
      "text/plain": [
       "array(['Initial', 'build', 'chore', 'WIP', 'chare', 'refactor', 'update',\n",
       "       'first', 'moved', 'design', 'fix', 'test', 'feat', 'doc', 'fixes',\n",
       "       'style', 'transpiler', 'feature', 'use', 'docs', 'perf', 'cleanup',\n",
       "       'Fixed', 'bug', 'benchmark', 'Add', 'Replaced', 'make', 'Update',\n",
       "       'tweak', 'Remove', 'Doc', 'more', 'add', 'tests', 'Format',\n",
       "       'release', 'clean', \"Don't\", 'removed', nan, 'fixed', 'Fix',\n",
       "       'README', 'example', 'reafactor', 'DEVELOPER.md', 'misc',\n",
       "       'Address', 'Read', 'Tweak', 'Updating', 'BUG', 'refacor', 'Copy',\n",
       "       'Merge', 'squash-me', 'revert', 'examples', 'Revert', 'tools',\n",
       "       'Feat', 'Refactor', 'Removed', 'refector', 'Adding', 'Fixes',\n",
       "       'temporary', 'resolve', 'Produce', 'typo', 'for', 'SQUASH',\n",
       "       'patch', 'Make', 'ci', 'change', 'Typo', 'refact', 'Roll',\n",
       "       'repackaging', 'adds', 'Condition', 'Bump', 'changelog', 'npm',\n",
       "       'removes', 'readme', 'upgrade', 'Configure', 'refatcor', 'Router',\n",
       "       'edit', 'finished', 'benchmarks', 'text', 'Form', 'Check', 'Keep',\n",
       "       'FIX', 'Include', 'buid', 'RendererV2', 'features', 'code',\n",
       "       'filetree', 'table', 'consolidated', 'hr', 'aio', 'fixup!',\n",
       "       'updated', 'reactor'], dtype=object)"
      ]
     },
     "execution_count": 33,
     "metadata": {},
     "output_type": "execute_result"
    }
   ],
   "source": [
    "data.activity.unique()"
   ]
  },
  {
   "cell_type": "code",
   "execution_count": 39,
   "id": "1705ab5c",
   "metadata": {},
   "outputs": [],
   "source": [
    "activity_low = pd.Series([str(sentence).lower() for sentence in data.activity])"
   ]
  },
  {
   "cell_type": "code",
   "execution_count": 46,
   "id": "5fc9a218",
   "metadata": {},
   "outputs": [
    {
     "data": {
      "text/plain": [
       "array(['add', 'adding', 'address', 'adds', 'aio', 'benchmark',\n",
       "       'benchmarks', 'bug', 'buid', 'build', 'bump', 'change',\n",
       "       'changelog', 'chare', 'check', 'chore', 'ci', 'clean', 'cleanup',\n",
       "       'code', 'condition', 'configure', 'consolidated', 'copy', 'design',\n",
       "       'developer.md', 'doc', 'docs', \"don't\", 'edit', 'example',\n",
       "       'examples', 'feat', 'feature', 'features', 'filetree', 'finished',\n",
       "       'first', 'fix', 'fixed', 'fixes', 'fixup!', 'for', 'form',\n",
       "       'format', 'hr', 'include', 'initial', 'keep', 'make', 'merge',\n",
       "       'misc', 'more', 'moved', 'nan', 'npm', 'patch', 'perf', 'produce',\n",
       "       'reactor', 'read', 'readme', 'reafactor', 'refacor', 'refact',\n",
       "       'refactor', 'refatcor', 'refector', 'release', 'remove', 'removed',\n",
       "       'removes', 'rendererv2', 'repackaging', 'replaced', 'resolve',\n",
       "       'revert', 'roll', 'router', 'squash', 'squash-me', 'style',\n",
       "       'table', 'temporary', 'test', 'tests', 'text', 'tools',\n",
       "       'transpiler', 'tweak', 'typo', 'update', 'updated', 'updating',\n",
       "       'upgrade', 'use', 'wip'], dtype=object)"
      ]
     },
     "execution_count": 46,
     "metadata": {},
     "output_type": "execute_result"
    }
   ],
   "source": [
    "# lowercase transformation\n",
    "t = activity_low.unique()\n",
    "t.sort()\n",
    "t"
   ]
  },
  {
   "cell_type": "code",
   "execution_count": 42,
   "id": "1e1e77e7",
   "metadata": {},
   "outputs": [
    {
     "data": {
      "text/plain": [
       "97"
      ]
     },
     "execution_count": 42,
     "metadata": {},
     "output_type": "execute_result"
    }
   ],
   "source": [
    "activity_low.nunique()"
   ]
  },
  {
   "cell_type": "code",
   "execution_count": 52,
   "id": "5893a5f1",
   "metadata": {},
   "outputs": [
    {
     "data": {
      "text/plain": [
       "4"
      ]
     },
     "execution_count": 52,
     "metadata": {},
     "output_type": "execute_result"
    }
   ],
   "source": [
    "len(data[data['merge'] == True])"
   ]
  },
  {
   "cell_type": "code",
   "execution_count": 53,
   "id": "aec9585c",
   "metadata": {},
   "outputs": [],
   "source": [
    "# test if stemming is suitable for preprocessing\n",
    "from nltk.stem.snowball import SnowballStemmer\n",
    "snowball_stemmer = SnowballStemmer('english')\n",
    "activity_stem = [snowball_stemmer.stem(word) for word in activity_low]"
   ]
  },
  {
   "cell_type": "code",
   "execution_count": 57,
   "id": "c608f9da",
   "metadata": {},
   "outputs": [
    {
     "data": {
      "text/plain": [
       "array(['ad', 'add', 'address', 'aio', 'benchmark', 'bug', 'buid', 'build',\n",
       "       'bump', 'chang', 'changelog', 'chare', 'check', 'chore', 'ci',\n",
       "       'clean', 'cleanup', 'code', 'condit', 'configur', 'consolid',\n",
       "       'copi', 'design', 'developer.md', 'doc', \"don't\", 'edit', 'exampl',\n",
       "       'feat', 'featur', 'filetre', 'finish', 'first', 'fix', 'fixup!',\n",
       "       'for', 'form', 'format', 'hr', 'includ', 'initi', 'keep', 'make',\n",
       "       'merg', 'misc', 'more', 'move', 'nan', 'npm', 'patch', 'perf',\n",
       "       'produc', 'reactor', 'read', 'readm', 'reafactor', 'refacor',\n",
       "       'refact', 'refactor', 'refatcor', 'refector', 'releas', 'remov',\n",
       "       'rendererv2', 'repackag', 'replac', 'resolv', 'revert', 'roll',\n",
       "       'router', 'squash', 'squash-m', 'style', 'tabl', 'temporari',\n",
       "       'test', 'text', 'tool', 'transpil', 'tweak', 'typo', 'updat',\n",
       "       'upgrad', 'use', 'wip'], dtype=object)"
      ]
     },
     "execution_count": 57,
     "metadata": {},
     "output_type": "execute_result"
    }
   ],
   "source": [
    "t = pd.Series(activity_stem).unique()\n",
    "t.sort()\n",
    "t"
   ]
  },
  {
   "cell_type": "code",
   "execution_count": 58,
   "id": "476c8686",
   "metadata": {},
   "outputs": [
    {
     "data": {
      "text/plain": [
       "85"
      ]
     },
     "execution_count": 58,
     "metadata": {},
     "output_type": "execute_result"
    }
   ],
   "source": [
    "len(t)"
   ]
  },
  {
   "cell_type": "code",
   "execution_count": 75,
   "id": "d00892e4",
   "metadata": {},
   "outputs": [
    {
     "name": "stderr",
     "output_type": "stream",
     "text": [
      "[nltk_data] Downloading package wordnet to\n",
      "[nltk_data]     /Users/elizavetabelanina/nltk_data...\n"
     ]
    }
   ],
   "source": [
    "import nltk\n",
    "nltk.download('wordnet')\n",
    "from nltk.stem import WordNetLemmatizer \n",
    "lemmatizer = WordNetLemmatizer()\n",
    "\n",
    "# lowercase transformation + lemmatization\n",
    "raw = data.activity\n",
    "lower = [str(word).lower() for word in raw]\n",
    "lemmatized = [lemmatizer.lemmatize(word) for word in lower]"
   ]
  },
  {
   "cell_type": "code",
   "execution_count": 76,
   "id": "c7889f0e",
   "metadata": {},
   "outputs": [],
   "source": [
    "def count_freq(data_array):\n",
    "    c = 0\n",
    "    frequencies = {}\n",
    "    for item in data_array:\n",
    "        if item in frequencies:\n",
    "            frequencies[item] += 1\n",
    "        else:\n",
    "            frequencies[item] = 1\n",
    "    \n",
    "    for label in frequencies:\n",
    "        if frequencies[label] == 1:\n",
    "            c += 1 \n",
    "    return(frequencies, c)"
   ]
  },
  {
   "cell_type": "code",
   "execution_count": 86,
   "id": "c862413d",
   "metadata": {},
   "outputs": [
    {
     "data": {
      "text/plain": [
       "[('chare', 1),\n",
       " ('first', 1),\n",
       " ('transpiler', 1),\n",
       " ('use', 1),\n",
       " ('replaced', 1),\n",
       " ('format', 1),\n",
       " ('clean', 1),\n",
       " ('reafactor', 1),\n",
       " ('misc', 1),\n",
       " ('address', 1),\n",
       " ('read', 1),\n",
       " ('updating', 1),\n",
       " ('refacor', 1),\n",
       " ('copy', 1),\n",
       " ('merge', 1),\n",
       " ('squash-me', 1),\n",
       " ('refector', 1),\n",
       " ('adding', 1),\n",
       " ('temporary', 1),\n",
       " ('resolve', 1),\n",
       " ('produce', 1),\n",
       " ('for', 1),\n",
       " ('squash', 1),\n",
       " ('patch', 1),\n",
       " ('refact', 1),\n",
       " ('roll', 1),\n",
       " ('bump', 1),\n",
       " ('changelog', 1),\n",
       " ('upgrade', 1),\n",
       " ('configure', 1),\n",
       " ('refatcor', 1),\n",
       " ('router', 1),\n",
       " ('edit', 1),\n",
       " ('finished', 1),\n",
       " ('text', 1),\n",
       " ('form', 1),\n",
       " ('check', 1),\n",
       " ('keep', 1),\n",
       " ('include', 1),\n",
       " ('buid', 1),\n",
       " ('rendererv2', 1),\n",
       " ('code', 1),\n",
       " ('filetree', 1),\n",
       " ('table', 1),\n",
       " ('consolidated', 1),\n",
       " ('hr', 1),\n",
       " ('updated', 1),\n",
       " ('reactor', 1),\n",
       " ('initial', 2),\n",
       " ('wip', 2),\n",
       " ('moved', 2),\n",
       " ('make', 2),\n",
       " ('tweak', 2),\n",
       " ('more', 2),\n",
       " (\"don't\", 2),\n",
       " ('removed', 2),\n",
       " ('readme', 2),\n",
       " ('developer.md', 2),\n",
       " ('repackaging', 2),\n",
       " ('condition', 2),\n",
       " ('npm', 2),\n",
       " ('benchmark', 3),\n",
       " ('change', 3),\n",
       " ('aio', 3),\n",
       " ('nan', 4),\n",
       " ('tool', 4),\n",
       " ('bug', 5),\n",
       " ('typo', 5),\n",
       " ('remove', 6),\n",
       " ('design', 7),\n",
       " ('fixed', 8),\n",
       " ('example', 9),\n",
       " ('add', 10),\n",
       " ('feature', 14),\n",
       " ('fixup!', 21),\n",
       " ('update', 28),\n",
       " ('cleanup', 69),\n",
       " ('style', 205),\n",
       " ('release', 333),\n",
       " ('perf', 373),\n",
       " ('revert', 451),\n",
       " ('ci', 931),\n",
       " ('chore', 1104),\n",
       " ('test', 1451),\n",
       " ('feat', 2849),\n",
       " ('refactor', 3876),\n",
       " ('build', 3897),\n",
       " ('doc', 5365),\n",
       " ('fix', 5996)]"
      ]
     },
     "execution_count": 86,
     "metadata": {},
     "output_type": "execute_result"
    }
   ],
   "source": [
    "# count labels frequencies and display the result in ascending order \n",
    "sorted(f.items(), key=lambda x:x[1])"
   ]
  },
  {
   "cell_type": "code",
   "execution_count": 87,
   "id": "8ab8c9cd",
   "metadata": {},
   "outputs": [
    {
     "data": {
      "text/plain": [
       "[('add', 10),\n",
       " ('adding', 1),\n",
       " ('address', 1),\n",
       " ('aio', 3),\n",
       " ('benchmark', 3),\n",
       " ('bug', 5),\n",
       " ('buid', 1),\n",
       " ('build', 3897),\n",
       " ('bump', 1),\n",
       " ('change', 3),\n",
       " ('changelog', 1),\n",
       " ('chare', 1),\n",
       " ('check', 1),\n",
       " ('chore', 1104),\n",
       " ('ci', 931),\n",
       " ('clean', 1),\n",
       " ('cleanup', 69),\n",
       " ('code', 1),\n",
       " ('condition', 2),\n",
       " ('configure', 1),\n",
       " ('consolidated', 1),\n",
       " ('copy', 1),\n",
       " ('design', 7),\n",
       " ('developer.md', 2),\n",
       " ('doc', 5365),\n",
       " (\"don't\", 2),\n",
       " ('edit', 1),\n",
       " ('example', 9),\n",
       " ('feat', 2849),\n",
       " ('feature', 14),\n",
       " ('filetree', 1),\n",
       " ('finished', 1),\n",
       " ('first', 1),\n",
       " ('fix', 5996),\n",
       " ('fixed', 8),\n",
       " ('fixup!', 21),\n",
       " ('for', 1),\n",
       " ('form', 1),\n",
       " ('format', 1),\n",
       " ('hr', 1),\n",
       " ('include', 1),\n",
       " ('initial', 2),\n",
       " ('keep', 1),\n",
       " ('make', 2),\n",
       " ('merge', 1),\n",
       " ('misc', 1),\n",
       " ('more', 2),\n",
       " ('moved', 2),\n",
       " ('nan', 4),\n",
       " ('npm', 2),\n",
       " ('patch', 1),\n",
       " ('perf', 373),\n",
       " ('produce', 1),\n",
       " ('reactor', 1),\n",
       " ('read', 1),\n",
       " ('readme', 2),\n",
       " ('reafactor', 1),\n",
       " ('refacor', 1),\n",
       " ('refact', 1),\n",
       " ('refactor', 3876),\n",
       " ('refatcor', 1),\n",
       " ('refector', 1),\n",
       " ('release', 333),\n",
       " ('remove', 6),\n",
       " ('removed', 2),\n",
       " ('rendererv2', 1),\n",
       " ('repackaging', 2),\n",
       " ('replaced', 1),\n",
       " ('resolve', 1),\n",
       " ('revert', 451),\n",
       " ('roll', 1),\n",
       " ('router', 1),\n",
       " ('squash', 1),\n",
       " ('squash-me', 1),\n",
       " ('style', 205),\n",
       " ('table', 1),\n",
       " ('temporary', 1),\n",
       " ('test', 1451),\n",
       " ('text', 1),\n",
       " ('tool', 4),\n",
       " ('transpiler', 1),\n",
       " ('tweak', 2),\n",
       " ('typo', 5),\n",
       " ('update', 28),\n",
       " ('updated', 1),\n",
       " ('updating', 1),\n",
       " ('upgrade', 1),\n",
       " ('use', 1),\n",
       " ('wip', 2)]"
      ]
     },
     "execution_count": 87,
     "metadata": {},
     "output_type": "execute_result"
    }
   ],
   "source": [
    "sorted(f.items(), key=lambda x:x[0])"
   ]
  },
  {
   "cell_type": "code",
   "execution_count": 94,
   "id": "3041631e",
   "metadata": {},
   "outputs": [
    {
     "name": "stdout",
     "output_type": "stream",
     "text": [
      "True\n"
     ]
    }
   ],
   "source": [
    "# manually merge variations of the same activities\n",
    "merged = []\n",
    "for word in lemmatized:\n",
    "    if word in ['reactor','reafactor','refacor','refact','refatcor','refector']:\n",
    "        merged.append('refactor')\n",
    "    \n",
    "    elif word in ['updated','updating']:\n",
    "        merged.append('update')\n",
    "        \n",
    "    elif word in ['nan', 'doc']:\n",
    "        merged.append('docs')\n",
    "    \n",
    "    elif word == 'removed':\n",
    "        merged.append('remove')\n",
    "        \n",
    "    elif word == 'clean':\n",
    "        merged.append('cleanup')\n",
    "        \n",
    "    elif word == 'adding':\n",
    "        merged.append('add')\n",
    "        \n",
    "    elif word == 'buid':\n",
    "        merged.append('build')\n",
    "        \n",
    "    elif word == 'feature':\n",
    "        merged.append('feat')\n",
    "        \n",
    "    elif word in ['fixed', 'fixup!']:\n",
    "        merged.append('fix')\n",
    "        \n",
    "    else:\n",
    "        merged.append(word)\n",
    "        \n",
    "print(len(merged) == len(lemmatized))"
   ]
  },
  {
   "cell_type": "code",
   "execution_count": 95,
   "id": "99aeedd4",
   "metadata": {},
   "outputs": [
    {
     "name": "stdout",
     "output_type": "stream",
     "text": [
      "73\n",
      "37\n"
     ]
    }
   ],
   "source": [
    "f_new, c_new = count_freq(merged)\n",
    "print(len(f_new))\n",
    "print(c_new)"
   ]
  },
  {
   "cell_type": "code",
   "execution_count": 107,
   "id": "ed0f08b5",
   "metadata": {},
   "outputs": [
    {
     "name": "stdout",
     "output_type": "stream",
     "text": [
      "99.60153482880756 % events is covered by  20.54794520547945 % activity labels\n"
     ]
    }
   ],
   "source": [
    "#count stats\n",
    "a = 0\n",
    "e = 0\n",
    "for label in f_new:\n",
    "    if f_new[label] > 10:\n",
    "        a += 1\n",
    "        e += f_new[label]\n",
    "        \n",
    "print(e/number_of_events*100, '% events is covered by ', a/len(f_new)*100, '% activity labels') "
   ]
  },
  {
   "cell_type": "code",
   "execution_count": 108,
   "id": "c2f6dfa0",
   "metadata": {},
   "outputs": [
    {
     "data": {
      "text/plain": [
       "15"
      ]
     },
     "execution_count": 108,
     "metadata": {},
     "output_type": "execute_result"
    }
   ],
   "source": [
    "a"
   ]
  },
  {
   "cell_type": "code",
   "execution_count": 109,
   "id": "b20ac53f",
   "metadata": {},
   "outputs": [],
   "source": [
    "data['activity_preprocessed'] = merged"
   ]
  },
  {
   "cell_type": "code",
   "execution_count": 110,
   "id": "07288fc1",
   "metadata": {},
   "outputs": [
    {
     "data": {
      "text/html": [
       "<div>\n",
       "<style scoped>\n",
       "    .dataframe tbody tr th:only-of-type {\n",
       "        vertical-align: middle;\n",
       "    }\n",
       "\n",
       "    .dataframe tbody tr th {\n",
       "        vertical-align: top;\n",
       "    }\n",
       "\n",
       "    .dataframe thead th {\n",
       "        text-align: right;\n",
       "    }\n",
       "</style>\n",
       "<table border=\"1\" class=\"dataframe\">\n",
       "  <thead>\n",
       "    <tr style=\"text-align: right;\">\n",
       "      <th></th>\n",
       "      <th>Unnamed: 0</th>\n",
       "      <th>author_timestamp</th>\n",
       "      <th>hash</th>\n",
       "      <th>activity</th>\n",
       "      <th>commit_message</th>\n",
       "      <th>author_name</th>\n",
       "      <th>author_email</th>\n",
       "      <th>merge</th>\n",
       "      <th>activity_preprocessed</th>\n",
       "    </tr>\n",
       "  </thead>\n",
       "  <tbody>\n",
       "    <tr>\n",
       "      <th>0</th>\n",
       "      <td>0</td>\n",
       "      <td>2014-09-18T09:12:01-07:00</td>\n",
       "      <td>6a3abf2366e2c32ce3460155903262fee01736c8</td>\n",
       "      <td>Initial</td>\n",
       "      <td>Initial commit</td>\n",
       "      <td>Miško Hevery</td>\n",
       "      <td>misko@hevery.com</td>\n",
       "      <td>False</td>\n",
       "      <td>initial</td>\n",
       "    </tr>\n",
       "    <tr>\n",
       "      <th>1</th>\n",
       "      <td>1</td>\n",
       "      <td>2014-09-18T14:56:38-07:00</td>\n",
       "      <td>afa761646472120edef1f9b01f219f125f20128e</td>\n",
       "      <td>build</td>\n",
       "      <td>build - refactor</td>\n",
       "      <td>Tobias Bosch</td>\n",
       "      <td>tbosch1009@gmail.com</td>\n",
       "      <td>False</td>\n",
       "      <td>build</td>\n",
       "    </tr>\n",
       "    <tr>\n",
       "      <th>2</th>\n",
       "      <td>2</td>\n",
       "      <td>2014-09-19T21:55:04+00:00</td>\n",
       "      <td>5af57922dbf5b3cf76adb5e3831f9aa21dddc17c</td>\n",
       "      <td>chore</td>\n",
       "      <td>chore: add .c9 to gitignore</td>\n",
       "      <td>Misko Hevery</td>\n",
       "      <td>misko@hevery.com</td>\n",
       "      <td>False</td>\n",
       "      <td>chore</td>\n",
       "    </tr>\n",
       "    <tr>\n",
       "      <th>3</th>\n",
       "      <td>3</td>\n",
       "      <td>2014-09-19T21:55:37+00:00</td>\n",
       "      <td>9f1db3f2bcf67f49c9b145e1d1e8f090220372df</td>\n",
       "      <td>chore</td>\n",
       "      <td>chore: correct postinstall.sh script</td>\n",
       "      <td>Misko Hevery</td>\n",
       "      <td>misko@hevery.com</td>\n",
       "      <td>False</td>\n",
       "      <td>chore</td>\n",
       "    </tr>\n",
       "    <tr>\n",
       "      <th>4</th>\n",
       "      <td>4</td>\n",
       "      <td>2014-09-19T23:03:36+00:00</td>\n",
       "      <td>6e4477fc0880e12c9f4c2959e4bf1ae075794bc3</td>\n",
       "      <td>WIP</td>\n",
       "      <td>WIP</td>\n",
       "      <td>Misko Hevery</td>\n",
       "      <td>misko@hevery.com</td>\n",
       "      <td>False</td>\n",
       "      <td>wip</td>\n",
       "    </tr>\n",
       "  </tbody>\n",
       "</table>\n",
       "</div>"
      ],
      "text/plain": [
       "   Unnamed: 0           author_timestamp  \\\n",
       "0           0  2014-09-18T09:12:01-07:00   \n",
       "1           1  2014-09-18T14:56:38-07:00   \n",
       "2           2  2014-09-19T21:55:04+00:00   \n",
       "3           3  2014-09-19T21:55:37+00:00   \n",
       "4           4  2014-09-19T23:03:36+00:00   \n",
       "\n",
       "                                       hash activity  \\\n",
       "0  6a3abf2366e2c32ce3460155903262fee01736c8  Initial   \n",
       "1  afa761646472120edef1f9b01f219f125f20128e    build   \n",
       "2  5af57922dbf5b3cf76adb5e3831f9aa21dddc17c    chore   \n",
       "3  9f1db3f2bcf67f49c9b145e1d1e8f090220372df    chore   \n",
       "4  6e4477fc0880e12c9f4c2959e4bf1ae075794bc3      WIP   \n",
       "\n",
       "                         commit_message   author_name          author_email  \\\n",
       "0                        Initial commit  Miško Hevery      misko@hevery.com   \n",
       "1                      build - refactor  Tobias Bosch  tbosch1009@gmail.com   \n",
       "2           chore: add .c9 to gitignore  Misko Hevery      misko@hevery.com   \n",
       "3  chore: correct postinstall.sh script  Misko Hevery      misko@hevery.com   \n",
       "4                                   WIP  Misko Hevery      misko@hevery.com   \n",
       "\n",
       "   merge activity_preprocessed  \n",
       "0  False               initial  \n",
       "1  False                 build  \n",
       "2  False                 chore  \n",
       "3  False                 chore  \n",
       "4  False                   wip  "
      ]
     },
     "execution_count": 110,
     "metadata": {},
     "output_type": "execute_result"
    }
   ],
   "source": [
    "data.head()"
   ]
  },
  {
   "cell_type": "code",
   "execution_count": 116,
   "id": "7406c4fc",
   "metadata": {},
   "outputs": [
    {
     "data": {
      "text/plain": [
       "0.0216573199527745"
      ]
     },
     "execution_count": 116,
     "metadata": {},
     "output_type": "execute_result"
    }
   ],
   "source": [
    "len(data[data.activity != data.activity_preprocessed])/len(data)"
   ]
  },
  {
   "cell_type": "code",
   "execution_count": 115,
   "id": "a7dccec9",
   "metadata": {},
   "outputs": [],
   "source": [
    "data.to_csv('preprocessed_labels.csv')"
   ]
  },
  {
   "cell_type": "code",
   "execution_count": 119,
   "id": "27636b17",
   "metadata": {},
   "outputs": [
    {
     "data": {
      "text/plain": [
       "2"
      ]
     },
     "execution_count": 119,
     "metadata": {},
     "output_type": "execute_result"
    }
   ],
   "source": [
    "len(data.commit_message[0].split())"
   ]
  },
  {
   "cell_type": "code",
   "execution_count": 121,
   "id": "ae242d83",
   "metadata": {},
   "outputs": [],
   "source": [
    "# compute commit message length statistics\n",
    "lengths = pd.Series([len(sent.split()) for sent in data.commit_message])"
   ]
  },
  {
   "cell_type": "code",
   "execution_count": 123,
   "id": "a01a3233",
   "metadata": {},
   "outputs": [
    {
     "data": {
      "text/plain": [
       "count    27104.000000\n",
       "mean        33.361460\n",
       "std         46.962509\n",
       "min          1.000000\n",
       "25%          9.000000\n",
       "50%         16.000000\n",
       "75%         42.000000\n",
       "max       2631.000000\n",
       "dtype: float64"
      ]
     },
     "execution_count": 123,
     "metadata": {},
     "output_type": "execute_result"
    }
   ],
   "source": [
    "lengths.describe()"
   ]
  },
  {
   "cell_type": "code",
   "execution_count": null,
   "id": "ea925b20",
   "metadata": {},
   "outputs": [],
   "source": []
  },
  {
   "cell_type": "code",
   "execution_count": null,
   "id": "e8eaa075",
   "metadata": {},
   "outputs": [],
   "source": []
  },
  {
   "cell_type": "code",
   "execution_count": null,
   "id": "ae99b50a",
   "metadata": {},
   "outputs": [],
   "source": []
  },
  {
   "cell_type": "code",
   "execution_count": null,
   "id": "4e65c31a",
   "metadata": {},
   "outputs": [],
   "source": []
  },
  {
   "cell_type": "code",
   "execution_count": null,
   "id": "9c4c0df6",
   "metadata": {},
   "outputs": [],
   "source": []
  },
  {
   "cell_type": "code",
   "execution_count": null,
   "id": "90bbc201",
   "metadata": {},
   "outputs": [],
   "source": []
  },
  {
   "cell_type": "code",
   "execution_count": null,
   "id": "a3b21dbe",
   "metadata": {},
   "outputs": [],
   "source": []
  },
  {
   "cell_type": "code",
   "execution_count": null,
   "id": "18b6eebc",
   "metadata": {},
   "outputs": [],
   "source": []
  },
  {
   "cell_type": "code",
   "execution_count": null,
   "id": "b7edaa5e",
   "metadata": {},
   "outputs": [],
   "source": []
  },
  {
   "cell_type": "code",
   "execution_count": null,
   "id": "7a301701",
   "metadata": {},
   "outputs": [],
   "source": []
  }
 ],
 "metadata": {
  "kernelspec": {
   "display_name": "Python 3 (ipykernel)",
   "language": "python",
   "name": "python3"
  },
  "language_info": {
   "codemirror_mode": {
    "name": "ipython",
    "version": 3
   },
   "file_extension": ".py",
   "mimetype": "text/x-python",
   "name": "python",
   "nbconvert_exporter": "python",
   "pygments_lexer": "ipython3",
   "version": "3.8.10"
  }
 },
 "nbformat": 4,
 "nbformat_minor": 5
}
